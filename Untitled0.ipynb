{
  "nbformat": 4,
  "nbformat_minor": 0,
  "metadata": {
    "colab": {
      "provenance": [],
      "authorship_tag": "ABX9TyNn2z/3UDlmuZBMwAcnVRWH",
      "include_colab_link": true
    },
    "kernelspec": {
      "name": "python3",
      "display_name": "Python 3"
    },
    "language_info": {
      "name": "python"
    }
  },
  "cells": [
    {
      "cell_type": "markdown",
      "metadata": {
        "id": "view-in-github",
        "colab_type": "text"
      },
      "source": [
        "<a href=\"https://colab.research.google.com/github/34996178/ejercicios_python_sec/blob/main/Untitled0.ipynb\" target=\"_parent\"><img src=\"https://colab.research.google.com/assets/colab-badge.svg\" alt=\"Open In Colab\"/></a>"
      ]
    },
    {
      "cell_type": "code",
      "execution_count": null,
      "metadata": {
        "id": "xb2xNfPFPRA5"
      },
      "outputs": [],
      "source": []
    },
    {
      "cell_type": "markdown",
      "source": [
        "ejercicio en clase"
      ],
      "metadata": {
        "id": "ulKP2DXfPTE2"
      }
    },
    {
      "cell_type": "code",
      "source": [
        "docena = float(input(\"ingrese las docenas adquiridad\"))\n",
        "precio = float(input(\"ingrese el precio por docena\"))\n",
        "subtotal = docena * precio\n",
        "if docena >= 10:\n",
        "  descuento = subtotal * 0.15\n",
        "else :\n",
        "  descuento = subtotal * 0.11\n",
        "\n",
        "print(\"subtotal:$\" , subtotal)\n",
        "print(\"descuento:$\" , descuento)\n",
        "print(\"total:$\" , subtotal-descuento)\n",
        "\n"
      ],
      "metadata": {
        "colab": {
          "base_uri": "https://localhost:8080/"
        },
        "id": "-sDpEbiSPY4y",
        "outputId": "9de7dca7-104c-45ae-8b63-c2383d3e6c1e"
      },
      "execution_count": 4,
      "outputs": [
        {
          "output_type": "stream",
          "name": "stdout",
          "text": [
            "ingrese las docenas adquiridad 5\n",
            "ingrese el precio por docena 5000\n",
            "subtotal:$ 25000.0\n",
            "descuento:$ 2750.0\n",
            "total:$ 22250.0\n"
          ]
        }
      ]
    },
    {
      "cell_type": "code",
      "source": [],
      "metadata": {
        "id": "fH7UOkNSQxx-"
      },
      "execution_count": null,
      "outputs": []
    },
    {
      "cell_type": "markdown",
      "source": [
        "EJEMPLO EN CLASE"
      ],
      "metadata": {
        "id": "cQ6kZjzMSSxE"
      }
    },
    {
      "cell_type": "code",
      "source": [
        "horas = float(input(\"ingrese el numero de horas: \"))\n",
        "categoria =input(\"ingrese la categoria: \")\n",
        "hijos = int(input(\"ingrese el numero de hijos: \"))\n",
        "\n",
        "\n",
        "if categoria == \"A\":\n",
        " tarifahoraria = 45\n",
        "if categoria == \"B\":\n",
        " tarifahoraria = 37.5\n",
        "\n",
        "sueldobasico = horas * tarifahoraria\n",
        "\n",
        "\n",
        "if hijos <= 3:\n",
        "  bonificacion = 40.5 * hijos\n",
        "if hijos > 3:\n",
        "  bonificacion = 35 * hijos\n",
        "  sueldobruto = sueldobasico + bonificacion\n",
        "\n",
        "if sueldobruto >= 3500:\n",
        "  descuento= sueldobruto * 0.135\n",
        "if sueldobruto < 3500:\n",
        "  descuento= sueldobruto * 0.10\n",
        "\n",
        "print (\"sueldobasico:$\" , sueldobasico)\n",
        "print (\"sueldobruto:$\" , sueldobasico + bonificacion)\n",
        "print (\"descuento:$\" , descuento)\n",
        "print (\"sueldoneto:$\" , sueldobruto-descuento)\n",
        "\n",
        "\n",
        "\n"
      ],
      "metadata": {
        "colab": {
          "base_uri": "https://localhost:8080/"
        },
        "id": "i-0ORx-zSVBi",
        "outputId": "7e10a18b-82bd-49ae-8035-244c88fe7b9c"
      },
      "execution_count": 36,
      "outputs": [
        {
          "output_type": "stream",
          "name": "stdout",
          "text": [
            "ingrese el numero de horas: 8\n",
            "ingrese la categoria: A\n",
            "ingrese el numero de hijos: 5\n",
            "sueldobasico:$ 360.0\n",
            "sueldobruto:$ 535.0\n",
            "descuento:$ 53.5\n",
            "sueldoneto:$ 481.5\n"
          ]
        }
      ]
    },
    {
      "cell_type": "code",
      "source": [],
      "metadata": {
        "id": "XDfXYv_icnGv"
      },
      "execution_count": null,
      "outputs": []
    }
  ]
}